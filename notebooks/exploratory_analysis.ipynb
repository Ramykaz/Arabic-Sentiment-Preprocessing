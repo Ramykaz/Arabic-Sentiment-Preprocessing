{
  "cells": [
    {
      "cell_type": "code",
      "execution_count": null,
      "metadata": {
        "vscode": {
          "languageId": "plaintext"
        }
      },
      "outputs": [],
      "source": [
        "import pandas as pd\n",
        "import matplotlib.pyplot as plt\n",
        "import seaborn as sns\n",
        "\n",
        "df = pd.read_csv(\"../data/cleaned_data.csv\")\n",
        "\n",
        "# Class distribution\n",
        "plt.figure(figsize=(6,4))\n",
        "sns.countplot(x=df['sentiment'])\n",
        "plt.title(\"Sentiment Distribution\")\n",
        "plt.show()\n",
        "\n",
        "# Text length analysis\n",
        "df['text_length'] = df['cleaned_text'].apply(lambda x: len(x.split()))\n",
        "df['text_length'].hist(bins=20)\n",
        "plt.title(\"Distribution of Text Lengths\")\n",
        "plt.show()\n"
      ]
    }
  ],
  "metadata": {
    "language_info": {
      "name": "python"
    }
  },
  "nbformat": 4,
  "nbformat_minor": 2
}
