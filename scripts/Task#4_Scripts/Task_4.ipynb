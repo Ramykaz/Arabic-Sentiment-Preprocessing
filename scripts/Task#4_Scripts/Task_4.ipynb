{
 "cells": [
  {
   "cell_type": "code",
   "execution_count": 1,
   "id": "38666630",
   "metadata": {},
   "outputs": [],
   "source": [
    "# Imports the necessary libraries (Pandas and NetworkX)\n",
    "\n",
    "import pandas as pd\n",
    "import networkx as nx\n",
    "\n",
    "#  Loads the data from the Excel file\n",
    "data = pd.read_excel('RT_Track_Anti.xlsx')\n",
    "\n",
    "# Creates a directed graph (DiGraph) to represent retweet relationships\n",
    "G = nx.DiGraph()\n",
    "\n",
    "# Iterates through each row in the DataFrame and add edges to the graph\n",
    "for index, row in data.iterrows():\n",
    "    original_author = row['Original_Author']\n",
    "    retweeting_author = row['Retweeting_Author']\n",
    "    G.add_edge(original_author, retweeting_author)\n",
    "\n",
    "# Exports the graph to a Gephi-compatible format (GEXF)\n",
    "nx.write_gexf(G, 'retweet_graph.gexf')\n"
   ]
  },
  {
   "cell_type": "code",
   "execution_count": null,
   "id": "8a44c786",
   "metadata": {},
   "outputs": [],
   "source": []
  }
 ],
 "metadata": {
  "kernelspec": {
   "display_name": "Python 3 (ipykernel)",
   "language": "python",
   "name": "python3"
  },
  "language_info": {
   "codemirror_mode": {
    "name": "ipython",
    "version": 3
   },
   "file_extension": ".py",
   "mimetype": "text/x-python",
   "name": "python",
   "nbconvert_exporter": "python",
   "pygments_lexer": "ipython3",
   "version": "3.9.13"
  }
 },
 "nbformat": 4,
 "nbformat_minor": 5
}
